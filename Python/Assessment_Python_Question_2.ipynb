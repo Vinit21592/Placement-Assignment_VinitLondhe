{
 "cells": [
  {
   "cell_type": "markdown",
   "id": "8dd66ffd",
   "metadata": {},
   "source": [
    "### Question 2: -\n",
    "Consider a string to be valid if all characters of the string appear the same number of times. It is also valid if\n",
    "he can remove just one character at the index in the string, and the remaining characters will occur the same\n",
    "number of times. Given a string, determine if it is valid. If so, return YES , otherwise return NO."
   ]
  },
  {
   "cell_type": "code",
   "execution_count": 1,
   "id": "06ff0712",
   "metadata": {},
   "outputs": [],
   "source": [
    "from collections import Counter"
   ]
  },
  {
   "cell_type": "code",
   "execution_count": 2,
   "id": "66b04ae6",
   "metadata": {},
   "outputs": [],
   "source": [
    "def is_valid_string(s):\n",
    "    char_counts = Counter(s)\n",
    "    \n",
    "    count_freqs = Counter(char_counts.values())\n",
    "    \n",
    "    if len(count_freqs) == 1:\n",
    "        return \"YES\"\n",
    "    elif len(count_freqs) == 2:\n",
    "        freqs = list(count_freqs.keys())\n",
    "        occurrences = list(count_freqs.values())\n",
    "        if (abs(freqs[0] - freqs[1]) == 1 and (occurrences[0] == 1 or occurrences[1] == 1)):\n",
    "            return \"YES\"\n",
    "        \n",
    "    return \"NO\""
   ]
  },
  {
   "cell_type": "code",
   "execution_count": 3,
   "id": "c2463d9c",
   "metadata": {},
   "outputs": [
    {
     "data": {
      "text/plain": [
       "'YES'"
      ]
     },
     "execution_count": 3,
     "metadata": {},
     "output_type": "execute_result"
    }
   ],
   "source": [
    "s = \"abc\"\n",
    "is_valid_string(s)"
   ]
  },
  {
   "cell_type": "code",
   "execution_count": 4,
   "id": "b5e56d8d",
   "metadata": {},
   "outputs": [
    {
     "data": {
      "text/plain": [
       "'YES'"
      ]
     },
     "execution_count": 4,
     "metadata": {},
     "output_type": "execute_result"
    }
   ],
   "source": [
    "s = \"abcc\"\n",
    "is_valid_string(s)"
   ]
  },
  {
   "cell_type": "code",
   "execution_count": 5,
   "id": "1a2a152d",
   "metadata": {},
   "outputs": [
    {
     "data": {
      "text/plain": [
       "'NO'"
      ]
     },
     "execution_count": 5,
     "metadata": {},
     "output_type": "execute_result"
    }
   ],
   "source": [
    "s = \"aaabc\"\n",
    "is_valid_string(s)"
   ]
  }
 ],
 "metadata": {
  "kernelspec": {
   "display_name": "py",
   "language": "python",
   "name": "myenv"
  },
  "language_info": {
   "codemirror_mode": {
    "name": "ipython",
    "version": 3
   },
   "file_extension": ".py",
   "mimetype": "text/x-python",
   "name": "python",
   "nbconvert_exporter": "python",
   "pygments_lexer": "ipython3",
   "version": "3.10.9"
  }
 },
 "nbformat": 4,
 "nbformat_minor": 5
}
