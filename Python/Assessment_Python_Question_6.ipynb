{
 "cells": [
  {
   "cell_type": "markdown",
   "id": "8b648c90-8369-40fb-ba9a-56057bc2615f",
   "metadata": {},
   "source": [
    "### Question 6 -\n",
    "Using the data from Question 3, write code to analyze the data and answer the following questions Note \n",
    "1. Draw plots to demonstrate the analysis for the following questions for better visualizations.\n",
    "2. Write code comments wherever required for code understanding\n",
    "\n",
    "Insights to be drawn -\n",
    "\n",
    "● Get all Pokemons whose spawn rate is less than 5%\n",
    "\n",
    "● Get all Pokemons that have less than 4 weaknesses\n",
    "\n",
    "● Get all Pokemons that have no multipliers at all\n",
    "\n",
    "● Get all Pokemons that do not have more than 2 evolutions\n",
    "\n",
    "● Get all Pokemons whose spawn time is less than 300 seconds.\n",
    "\n",
    "Note - spawn time format is \"05:32”, so assume “minute: second” format and perform the analysis.\n",
    "\n",
    "● Get all Pokemon who have more than two types of capabilities"
   ]
  },
  {
   "cell_type": "code",
   "execution_count": 2,
   "id": "4bb76138-0dfc-4307-8c56-4799f9cf0c41",
   "metadata": {},
   "outputs": [],
   "source": [
    "import pandas as pd\n",
    "import numpy as np\n",
    "import matplotlib.pyplot as plt\n",
    "import seaborn as sns\n",
    "%matplotlib inline  \n",
    "import warnings\n",
    "warnings.filterwarnings('ignore')"
   ]
  },
  {
   "cell_type": "code",
   "execution_count": 3,
   "id": "495ace01-4ab4-44c5-b125-9017dada1d6e",
   "metadata": {},
   "outputs": [],
   "source": [
    "pokemon = pd.read_excel(\"pokemon.xlsx\")"
   ]
  },
  {
   "cell_type": "code",
   "execution_count": 4,
   "id": "9754637e-3528-4785-b843-04f6be030d3b",
   "metadata": {},
   "outputs": [
    {
     "data": {
      "text/html": [
       "<div>\n",
       "<style scoped>\n",
       "    .dataframe tbody tr th:only-of-type {\n",
       "        vertical-align: middle;\n",
       "    }\n",
       "\n",
       "    .dataframe tbody tr th {\n",
       "        vertical-align: top;\n",
       "    }\n",
       "\n",
       "    .dataframe thead th {\n",
       "        text-align: right;\n",
       "    }\n",
       "</style>\n",
       "<table border=\"1\" class=\"dataframe\">\n",
       "  <thead>\n",
       "    <tr style=\"text-align: right;\">\n",
       "      <th></th>\n",
       "      <th>id</th>\n",
       "      <th>num</th>\n",
       "      <th>name</th>\n",
       "      <th>img</th>\n",
       "      <th>type</th>\n",
       "      <th>height</th>\n",
       "      <th>weight</th>\n",
       "      <th>candy</th>\n",
       "      <th>candy_count</th>\n",
       "      <th>egg</th>\n",
       "      <th>spawn_chance</th>\n",
       "      <th>avg_spawns</th>\n",
       "      <th>spawn_time</th>\n",
       "      <th>multipliers</th>\n",
       "      <th>weaknesses</th>\n",
       "      <th>next_evolution</th>\n",
       "      <th>prev_evolution</th>\n",
       "    </tr>\n",
       "  </thead>\n",
       "  <tbody>\n",
       "    <tr>\n",
       "      <th>0</th>\n",
       "      <td>1</td>\n",
       "      <td>1</td>\n",
       "      <td>Bulbasaur</td>\n",
       "      <td>http://www.serebii.net/pokemongo/pokemon/001.png</td>\n",
       "      <td>['Grass', 'Poison']</td>\n",
       "      <td>0.71 m</td>\n",
       "      <td>6.9 kg</td>\n",
       "      <td>Bulbasaur Candy</td>\n",
       "      <td>25.0</td>\n",
       "      <td>2 km</td>\n",
       "      <td>0.690</td>\n",
       "      <td>69.0</td>\n",
       "      <td>20:00</td>\n",
       "      <td>[1.58]</td>\n",
       "      <td>['Fire', 'Ice', 'Flying', 'Psychic']</td>\n",
       "      <td>[{'num': '002', 'name': 'Ivysaur'}, {'num': '0...</td>\n",
       "      <td>NaN</td>\n",
       "    </tr>\n",
       "    <tr>\n",
       "      <th>1</th>\n",
       "      <td>2</td>\n",
       "      <td>2</td>\n",
       "      <td>Ivysaur</td>\n",
       "      <td>http://www.serebii.net/pokemongo/pokemon/002.png</td>\n",
       "      <td>['Grass', 'Poison']</td>\n",
       "      <td>0.99 m</td>\n",
       "      <td>13.0 kg</td>\n",
       "      <td>Bulbasaur Candy</td>\n",
       "      <td>100.0</td>\n",
       "      <td>Not in Eggs</td>\n",
       "      <td>0.042</td>\n",
       "      <td>4.2</td>\n",
       "      <td>07:00</td>\n",
       "      <td>[1.2, 1.6]</td>\n",
       "      <td>['Fire', 'Ice', 'Flying', 'Psychic']</td>\n",
       "      <td>[{'num': '003', 'name': 'Venusaur'}]</td>\n",
       "      <td>[{'num': '001', 'name': 'Bulbasaur'}]</td>\n",
       "    </tr>\n",
       "    <tr>\n",
       "      <th>2</th>\n",
       "      <td>3</td>\n",
       "      <td>3</td>\n",
       "      <td>Venusaur</td>\n",
       "      <td>http://www.serebii.net/pokemongo/pokemon/003.png</td>\n",
       "      <td>['Grass', 'Poison']</td>\n",
       "      <td>2.01 m</td>\n",
       "      <td>100.0 kg</td>\n",
       "      <td>Bulbasaur Candy</td>\n",
       "      <td>NaN</td>\n",
       "      <td>Not in Eggs</td>\n",
       "      <td>0.017</td>\n",
       "      <td>1.7</td>\n",
       "      <td>11:30</td>\n",
       "      <td>NaN</td>\n",
       "      <td>['Fire', 'Ice', 'Flying', 'Psychic']</td>\n",
       "      <td>NaN</td>\n",
       "      <td>[{'num': '001', 'name': 'Bulbasaur'}, {'num': ...</td>\n",
       "    </tr>\n",
       "    <tr>\n",
       "      <th>3</th>\n",
       "      <td>4</td>\n",
       "      <td>4</td>\n",
       "      <td>Charmander</td>\n",
       "      <td>http://www.serebii.net/pokemongo/pokemon/004.png</td>\n",
       "      <td>['Fire']</td>\n",
       "      <td>0.61 m</td>\n",
       "      <td>8.5 kg</td>\n",
       "      <td>Charmander Candy</td>\n",
       "      <td>25.0</td>\n",
       "      <td>2 km</td>\n",
       "      <td>0.253</td>\n",
       "      <td>25.3</td>\n",
       "      <td>08:45</td>\n",
       "      <td>[1.65]</td>\n",
       "      <td>['Water', 'Ground', 'Rock']</td>\n",
       "      <td>[{'num': '005', 'name': 'Charmeleon'}, {'num':...</td>\n",
       "      <td>NaN</td>\n",
       "    </tr>\n",
       "    <tr>\n",
       "      <th>4</th>\n",
       "      <td>5</td>\n",
       "      <td>5</td>\n",
       "      <td>Charmeleon</td>\n",
       "      <td>http://www.serebii.net/pokemongo/pokemon/005.png</td>\n",
       "      <td>['Fire']</td>\n",
       "      <td>1.09 m</td>\n",
       "      <td>19.0 kg</td>\n",
       "      <td>Charmander Candy</td>\n",
       "      <td>100.0</td>\n",
       "      <td>Not in Eggs</td>\n",
       "      <td>0.012</td>\n",
       "      <td>1.2</td>\n",
       "      <td>19:00</td>\n",
       "      <td>[1.79]</td>\n",
       "      <td>['Water', 'Ground', 'Rock']</td>\n",
       "      <td>[{'num': '006', 'name': 'Charizard'}]</td>\n",
       "      <td>[{'num': '004', 'name': 'Charmander'}]</td>\n",
       "    </tr>\n",
       "  </tbody>\n",
       "</table>\n",
       "</div>"
      ],
      "text/plain": [
       "   id  num        name                                               img  \\\n",
       "0   1    1   Bulbasaur  http://www.serebii.net/pokemongo/pokemon/001.png   \n",
       "1   2    2     Ivysaur  http://www.serebii.net/pokemongo/pokemon/002.png   \n",
       "2   3    3    Venusaur  http://www.serebii.net/pokemongo/pokemon/003.png   \n",
       "3   4    4  Charmander  http://www.serebii.net/pokemongo/pokemon/004.png   \n",
       "4   5    5  Charmeleon  http://www.serebii.net/pokemongo/pokemon/005.png   \n",
       "\n",
       "                  type  height    weight             candy  candy_count  \\\n",
       "0  ['Grass', 'Poison']  0.71 m    6.9 kg   Bulbasaur Candy         25.0   \n",
       "1  ['Grass', 'Poison']  0.99 m   13.0 kg   Bulbasaur Candy        100.0   \n",
       "2  ['Grass', 'Poison']  2.01 m  100.0 kg   Bulbasaur Candy          NaN   \n",
       "3             ['Fire']  0.61 m    8.5 kg  Charmander Candy         25.0   \n",
       "4             ['Fire']  1.09 m   19.0 kg  Charmander Candy        100.0   \n",
       "\n",
       "           egg  spawn_chance  avg_spawns spawn_time multipliers  \\\n",
       "0         2 km         0.690        69.0      20:00      [1.58]   \n",
       "1  Not in Eggs         0.042         4.2      07:00  [1.2, 1.6]   \n",
       "2  Not in Eggs         0.017         1.7      11:30         NaN   \n",
       "3         2 km         0.253        25.3      08:45      [1.65]   \n",
       "4  Not in Eggs         0.012         1.2      19:00      [1.79]   \n",
       "\n",
       "                             weaknesses  \\\n",
       "0  ['Fire', 'Ice', 'Flying', 'Psychic']   \n",
       "1  ['Fire', 'Ice', 'Flying', 'Psychic']   \n",
       "2  ['Fire', 'Ice', 'Flying', 'Psychic']   \n",
       "3           ['Water', 'Ground', 'Rock']   \n",
       "4           ['Water', 'Ground', 'Rock']   \n",
       "\n",
       "                                      next_evolution  \\\n",
       "0  [{'num': '002', 'name': 'Ivysaur'}, {'num': '0...   \n",
       "1               [{'num': '003', 'name': 'Venusaur'}]   \n",
       "2                                                NaN   \n",
       "3  [{'num': '005', 'name': 'Charmeleon'}, {'num':...   \n",
       "4              [{'num': '006', 'name': 'Charizard'}]   \n",
       "\n",
       "                                      prev_evolution  \n",
       "0                                                NaN  \n",
       "1              [{'num': '001', 'name': 'Bulbasaur'}]  \n",
       "2  [{'num': '001', 'name': 'Bulbasaur'}, {'num': ...  \n",
       "3                                                NaN  \n",
       "4             [{'num': '004', 'name': 'Charmander'}]  "
      ]
     },
     "execution_count": 4,
     "metadata": {},
     "output_type": "execute_result"
    }
   ],
   "source": [
    "pokemon.head()"
   ]
  },
  {
   "cell_type": "code",
   "execution_count": 5,
   "id": "49125fa2-0487-444b-acdc-d3dd080e9a78",
   "metadata": {},
   "outputs": [
    {
     "data": {
      "text/html": [
       "<div>\n",
       "<style scoped>\n",
       "    .dataframe tbody tr th:only-of-type {\n",
       "        vertical-align: middle;\n",
       "    }\n",
       "\n",
       "    .dataframe tbody tr th {\n",
       "        vertical-align: top;\n",
       "    }\n",
       "\n",
       "    .dataframe thead th {\n",
       "        text-align: right;\n",
       "    }\n",
       "</style>\n",
       "<table border=\"1\" class=\"dataframe\">\n",
       "  <thead>\n",
       "    <tr style=\"text-align: right;\">\n",
       "      <th></th>\n",
       "      <th>name</th>\n",
       "      <th>0</th>\n",
       "    </tr>\n",
       "  </thead>\n",
       "  <tbody>\n",
       "    <tr>\n",
       "      <th>0</th>\n",
       "      <td>Aerodactyl</td>\n",
       "      <td>1</td>\n",
       "    </tr>\n",
       "    <tr>\n",
       "      <th>1</th>\n",
       "      <td>Alakazam</td>\n",
       "      <td>1</td>\n",
       "    </tr>\n",
       "    <tr>\n",
       "      <th>2</th>\n",
       "      <td>Arcanine</td>\n",
       "      <td>1</td>\n",
       "    </tr>\n",
       "    <tr>\n",
       "      <th>3</th>\n",
       "      <td>Articuno</td>\n",
       "      <td>1</td>\n",
       "    </tr>\n",
       "    <tr>\n",
       "      <th>4</th>\n",
       "      <td>Blastoise</td>\n",
       "      <td>1</td>\n",
       "    </tr>\n",
       "    <tr>\n",
       "      <th>...</th>\n",
       "      <td>...</td>\n",
       "      <td>...</td>\n",
       "    </tr>\n",
       "    <tr>\n",
       "      <th>62</th>\n",
       "      <td>Vileplume</td>\n",
       "      <td>1</td>\n",
       "    </tr>\n",
       "    <tr>\n",
       "      <th>63</th>\n",
       "      <td>Wartortle</td>\n",
       "      <td>1</td>\n",
       "    </tr>\n",
       "    <tr>\n",
       "      <th>64</th>\n",
       "      <td>Weezing</td>\n",
       "      <td>1</td>\n",
       "    </tr>\n",
       "    <tr>\n",
       "      <th>65</th>\n",
       "      <td>Wigglytuff</td>\n",
       "      <td>1</td>\n",
       "    </tr>\n",
       "    <tr>\n",
       "      <th>66</th>\n",
       "      <td>Zapdos</td>\n",
       "      <td>1</td>\n",
       "    </tr>\n",
       "  </tbody>\n",
       "</table>\n",
       "<p>67 rows × 2 columns</p>\n",
       "</div>"
      ],
      "text/plain": [
       "          name  0\n",
       "0   Aerodactyl  1\n",
       "1     Alakazam  1\n",
       "2     Arcanine  1\n",
       "3     Articuno  1\n",
       "4    Blastoise  1\n",
       "..         ... ..\n",
       "62   Vileplume  1\n",
       "63   Wartortle  1\n",
       "64     Weezing  1\n",
       "65  Wigglytuff  1\n",
       "66      Zapdos  1\n",
       "\n",
       "[67 rows x 2 columns]"
      ]
     },
     "execution_count": 5,
     "metadata": {},
     "output_type": "execute_result"
    }
   ],
   "source": [
    "# 1. Get all Pokemons whose spawn rate is less than 5%\n",
    "pokemon[pokemon['avg_spawns']<5.0].groupby('name').size().reset_index()"
   ]
  },
  {
   "cell_type": "code",
   "execution_count": 6,
   "id": "83ef565f-e3af-40f9-b6d4-221ca8c362c8",
   "metadata": {},
   "outputs": [
    {
     "data": {
      "text/plain": [
       "0      ['Fire', 'Ice', 'Flying', 'Psychic']\n",
       "1      ['Fire', 'Ice', 'Flying', 'Psychic']\n",
       "2      ['Fire', 'Ice', 'Flying', 'Psychic']\n",
       "3               ['Water', 'Ground', 'Rock']\n",
       "4               ['Water', 'Ground', 'Rock']\n",
       "                       ...                 \n",
       "146              ['Ice', 'Dragon', 'Fairy']\n",
       "147              ['Ice', 'Dragon', 'Fairy']\n",
       "148      ['Ice', 'Rock', 'Dragon', 'Fairy']\n",
       "149                ['Bug', 'Ghost', 'Dark']\n",
       "150                ['Bug', 'Ghost', 'Dark']\n",
       "Name: weaknesses, Length: 151, dtype: object"
      ]
     },
     "execution_count": 6,
     "metadata": {},
     "output_type": "execute_result"
    }
   ],
   "source": [
    "# 2. Get all Pokemons that have less than 4 weaknesses\n",
    "pokemon['weaknesses']"
   ]
  },
  {
   "cell_type": "code",
   "execution_count": 7,
   "id": "f4787785-b41f-41a4-a426-0cdabf7e572e",
   "metadata": {},
   "outputs": [
    {
     "data": {
      "text/plain": [
       "[1.79]          2\n",
       "[1.4]           2\n",
       "[1.58]          1\n",
       "[1.48, 1.5]     1\n",
       "[2.65]          1\n",
       "               ..\n",
       "[1.98]          1\n",
       "[2.27]          1\n",
       "[2.17, 2.28]    1\n",
       "[2.31, 2.36]    1\n",
       "[2.05]          1\n",
       "Name: multipliers, Length: 68, dtype: int64"
      ]
     },
     "execution_count": 7,
     "metadata": {},
     "output_type": "execute_result"
    }
   ],
   "source": [
    "pokemon['multipliers'].value_counts()"
   ]
  },
  {
   "cell_type": "code",
   "execution_count": 114,
   "id": "3ba01db0-c967-4ad5-bec1-62f6a3937f34",
   "metadata": {},
   "outputs": [
    {
     "data": {
      "text/plain": [
       "81"
      ]
     },
     "execution_count": 114,
     "metadata": {},
     "output_type": "execute_result"
    }
   ],
   "source": [
    "pokemon['multipliers'].isnull().sum()"
   ]
  },
  {
   "cell_type": "code",
   "execution_count": 113,
   "id": "093e8f5f-f646-4f9a-af47-d47db4d0b4f8",
   "metadata": {},
   "outputs": [
    {
     "data": {
      "text/plain": [
       "id                 0\n",
       "num                0\n",
       "name               0\n",
       "img                0\n",
       "type               0\n",
       "height             0\n",
       "weight             0\n",
       "candy              0\n",
       "candy_count       81\n",
       "egg                0\n",
       "spawn_chance       0\n",
       "avg_spawns         0\n",
       "spawn_time         6\n",
       "multipliers       81\n",
       "weaknesses         0\n",
       "next_evolution    81\n",
       "prev_evolution    79\n",
       "dtype: int64"
      ]
     },
     "execution_count": 113,
     "metadata": {},
     "output_type": "execute_result"
    }
   ],
   "source": [
    "pokemon.isnull().sum()"
   ]
  },
  {
   "cell_type": "code",
   "execution_count": 11,
   "id": "913d5f3f-5cf0-436d-9dee-b627790f1e78",
   "metadata": {},
   "outputs": [
    {
     "data": {
      "text/plain": [
       "name\n",
       "Aerodactyl    1\n",
       "Alakazam      1\n",
       "Arbok         1\n",
       "Arcanine      1\n",
       "Articuno      1\n",
       "             ..\n",
       "Victreebel    1\n",
       "Vileplume     1\n",
       "Weezing       1\n",
       "Wigglytuff    1\n",
       "Zapdos        1\n",
       "Length: 81, dtype: int64"
      ]
     },
     "execution_count": 11,
     "metadata": {},
     "output_type": "execute_result"
    }
   ],
   "source": [
    "# 3. Get all Pokemons that have no multipliers at all\n",
    "pokemon.loc[pokemon['multipliers'].isnull()].groupby('name').size()"
   ]
  },
  {
   "cell_type": "code",
   "execution_count": 13,
   "id": "e511a023-b1da-4596-9e09-fe62b202d841",
   "metadata": {},
   "outputs": [
    {
     "data": {
      "text/plain": [
       "name\n",
       "Abra          1\n",
       "Arbok         1\n",
       "Arcanine      1\n",
       "Beedrill      1\n",
       "Bellsprout    1\n",
       "             ..\n",
       "Tauros        1\n",
       "Tentacool     1\n",
       "Venonat       1\n",
       "Voltorb       1\n",
       "Weedle        1\n",
       "Length: 75, dtype: int64"
      ]
     },
     "execution_count": 13,
     "metadata": {},
     "output_type": "execute_result"
    }
   ],
   "source": [
    "# 4. Get all Pokemons whose spawn time is less than 300 seconds.\n",
    "pokemon[pokemon['spawn_time'] < '05:00'].groupby('name').size()"
   ]
  },
  {
   "cell_type": "code",
   "execution_count": null,
   "id": "2e939cf7-a27b-40b6-acc4-4371d01173fc",
   "metadata": {},
   "outputs": [],
   "source": []
  }
 ],
 "metadata": {
  "kernelspec": {
   "display_name": "Python 3 (ipykernel)",
   "language": "python",
   "name": "python3"
  },
  "language_info": {
   "codemirror_mode": {
    "name": "ipython",
    "version": 3
   },
   "file_extension": ".py",
   "mimetype": "text/x-python",
   "name": "python",
   "nbconvert_exporter": "python",
   "pygments_lexer": "ipython3",
   "version": "3.10.6"
  }
 },
 "nbformat": 4,
 "nbformat_minor": 5
}
