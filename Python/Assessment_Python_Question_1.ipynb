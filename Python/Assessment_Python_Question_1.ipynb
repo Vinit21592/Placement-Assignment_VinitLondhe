{
 "cells": [
  {
   "cell_type": "markdown",
   "id": "5916f627",
   "metadata": {},
   "source": [
    "### Question 1: -\n",
    "Write a program that takes a string as input, and counts the frequency of each word in the string, there might\n",
    "be repeated characters in the string. Your task is to find the highest frequency and returns the length of the\n",
    "highest-frequency word."
   ]
  },
  {
   "cell_type": "code",
   "execution_count": 19,
   "id": "3ef68284",
   "metadata": {},
   "outputs": [],
   "source": [
    "def word_count(str):\n",
    "    counts = dict()\n",
    "    words = str.split()\n",
    "    \n",
    "    for word in words:\n",
    "        if word in counts:\n",
    "            counts[word]+=1\n",
    "        else:\n",
    "            counts[word]=1\n",
    "    \n",
    "    max_freq = max(counts.values())\n",
    "    max_freq_word_length = max(len(word) for word, freq in counts.items() if freq == max_freq)\n",
    "\n",
    "    return max_freq_word_length"
   ]
  },
  {
   "cell_type": "code",
   "execution_count": 23,
   "id": "4892dd58",
   "metadata": {},
   "outputs": [
    {
     "name": "stdout",
     "output_type": "stream",
     "text": [
      "The length of the highest-frequency word is: 5\n"
     ]
    }
   ],
   "source": [
    "input_string = \"write write write all the number from from from 1 to 100\"\n",
    "result = word_count(input_string)\n",
    "print(f\"The length of the highest-frequency word is: {result}\")"
   ]
  },
  {
   "cell_type": "markdown",
   "id": "1d397c71",
   "metadata": {},
   "source": [
    "**`Explanation`** - From the given string we can note that the most frequent words are “write” and “from” and\n",
    "the maximum value of both the values is “write” and its corresponding length is 5"
   ]
  },
  {
   "cell_type": "code",
   "execution_count": 24,
   "id": "75e823c4",
   "metadata": {},
   "outputs": [
    {
     "name": "stdout",
     "output_type": "stream",
     "text": [
      "The length of the highest-frequency word is: 6\n"
     ]
    }
   ],
   "source": [
    "input_string = \"banana apple banana apple banana\"\n",
    "result = word_count(input_string)\n",
    "print(f\"The length of the highest-frequency word is: {result}\")"
   ]
  },
  {
   "cell_type": "markdown",
   "id": "6f6a5028",
   "metadata": {},
   "source": [
    "**`Explanation`** - From the given string we can note that the most frequent word is banana and its maximum corresponding length is 5"
   ]
  }
 ],
 "metadata": {
  "kernelspec": {
   "display_name": "py",
   "language": "python",
   "name": "myenv"
  },
  "language_info": {
   "codemirror_mode": {
    "name": "ipython",
    "version": 3
   },
   "file_extension": ".py",
   "mimetype": "text/x-python",
   "name": "python",
   "nbconvert_exporter": "python",
   "pygments_lexer": "ipython3",
   "version": "3.10.9"
  }
 },
 "nbformat": 4,
 "nbformat_minor": 5
}
