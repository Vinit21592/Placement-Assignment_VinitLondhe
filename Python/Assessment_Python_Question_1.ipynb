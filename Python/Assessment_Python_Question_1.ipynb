{
 "cells": [
  {
   "cell_type": "code",
   "execution_count": 19,
   "id": "157f88c2",
   "metadata": {},
   "outputs": [],
   "source": [
    "def word_count(str):\n",
    "    counts = dict()\n",
    "    words = str.split()\n",
    "    \n",
    "    for word in words:\n",
    "        if word in counts:\n",
    "            counts[word]+=1\n",
    "        else:\n",
    "            counts[word]=1\n",
    "    \n",
    "    max_freq = max(counts.values())\n",
    "    max_freq_word_length = max(len(word) for word, freq in counts.items() if freq == max_freq)\n",
    "\n",
    "    return max_freq_word_length"
   ]
  },
  {
   "cell_type": "code",
   "execution_count": 23,
   "id": "18cb37d9",
   "metadata": {},
   "outputs": [
    {
     "name": "stdout",
     "output_type": "stream",
     "text": [
      "The length of the highest-frequency word is: 5\n"
     ]
    }
   ],
   "source": [
    "input_string = \"write write write all the number from from from 1 to 100\"\n",
    "result = word_count(input_string)\n",
    "print(f\"The length of the highest-frequency word is: {result}\")"
   ]
  },
  {
   "cell_type": "markdown",
   "id": "d933684b",
   "metadata": {},
   "source": [
    "**`Explanation`** - From the given string we can note that the most frequent words are “write” and “from” and\n",
    "the maximum value of both the values is “write” and its corresponding length is 5"
   ]
  },
  {
   "cell_type": "code",
   "execution_count": 24,
   "id": "ac3ea1a3",
   "metadata": {},
   "outputs": [
    {
     "name": "stdout",
     "output_type": "stream",
     "text": [
      "The length of the highest-frequency word is: 6\n"
     ]
    }
   ],
   "source": [
    "input_string = \"banana apple banana apple banana\"\n",
    "result = word_count(input_string)\n",
    "print(f\"The length of the highest-frequency word is: {result}\")"
   ]
  },
  {
   "cell_type": "markdown",
   "id": "597aabc1",
   "metadata": {},
   "source": [
    "**`Explanation`** - From the given string we can note that the most frequent word is banana and its maximum corresponding length is 5"
   ]
  }
 ],
 "metadata": {
  "kernelspec": {
   "display_name": "py",
   "language": "python",
   "name": "myenv"
  },
  "language_info": {
   "codemirror_mode": {
    "name": "ipython",
    "version": 3
   },
   "file_extension": ".py",
   "mimetype": "text/x-python",
   "name": "python",
   "nbconvert_exporter": "python",
   "pygments_lexer": "ipython3",
   "version": "3.10.9"
  }
 },
 "nbformat": 4,
 "nbformat_minor": 5
}
