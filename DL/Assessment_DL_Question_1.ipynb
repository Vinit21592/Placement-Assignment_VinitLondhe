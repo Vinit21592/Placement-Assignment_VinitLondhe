{
  "nbformat": 4,
  "nbformat_minor": 0,
  "metadata": {
    "colab": {
      "provenance": [],
      "gpuType": "T4"
    },
    "kernelspec": {
      "name": "python3",
      "display_name": "Python 3"
    },
    "language_info": {
      "name": "python"
    },
    "accelerator": "GPU"
  },
  "cells": [
    {
      "cell_type": "code",
      "execution_count": null,
      "metadata": {
        "id": "RWe9AfMmgam1"
      },
      "outputs": [],
      "source": [
        "# Import Libraries\n",
        "import tensorflow as tf\n",
        "from tensorflow.keras import layers, models"
      ]
    },
    {
      "cell_type": "code",
      "source": [
        "# Load and preprocess the MNIST dataset\n",
        "mnist = tf.keras.datasets.mnist\n",
        "(train_images, train_labels), (test_images, test_labels) = mnist.load_data()\n",
        "train_images = train_images.reshape((-1, 28, 28, 1))\n",
        "test_images = test_images.reshape((-1, 28, 28, 1))\n",
        "train_images = train_images / 255.0\n",
        "test_images = test_images / 255.0"
      ],
      "metadata": {
        "colab": {
          "base_uri": "https://localhost:8080/"
        },
        "id": "s_NDxZRogscY",
        "outputId": "493efb1a-6b20-4564-9187-bafa7782c0ad"
      },
      "execution_count": null,
      "outputs": [
        {
          "output_type": "stream",
          "name": "stdout",
          "text": [
            "Downloading data from https://storage.googleapis.com/tensorflow/tf-keras-datasets/mnist.npz\n",
            "11490434/11490434 [==============================] - 0s 0us/step\n"
          ]
        }
      ]
    },
    {
      "cell_type": "code",
      "source": [
        "# Common hyperparameters\n",
        "num_classes = 10\n",
        "batch_size = 128\n",
        "epochs = 10"
      ],
      "metadata": {
        "id": "wINigoZSgyz3"
      },
      "execution_count": null,
      "outputs": []
    },
    {
      "cell_type": "code",
      "source": [
        "# CNN Architecture 1: Simple CNN\n",
        "model1 = models.Sequential()\n",
        "model1.add(layers.Conv2D(32, (3, 3), activation='relu', input_shape=(28, 28, 1)))\n",
        "model1.add(layers.MaxPooling2D((2, 2)))\n",
        "model1.add(layers.Flatten())\n",
        "model1.add(layers.Dense(64, activation='relu'))\n",
        "model1.add(layers.Dense(num_classes, activation='softmax'))"
      ],
      "metadata": {
        "id": "-4XzHjSOg5SU"
      },
      "execution_count": null,
      "outputs": []
    },
    {
      "cell_type": "code",
      "source": [
        "model1.compile(optimizer='adam',\n",
        "               loss='sparse_categorical_crossentropy',\n",
        "               metrics=['accuracy'])"
      ],
      "metadata": {
        "id": "x688euJzg9hB"
      },
      "execution_count": null,
      "outputs": []
    },
    {
      "cell_type": "code",
      "source": [
        "history1 = model1.fit(train_images, train_labels,\n",
        "                      batch_size=batch_size,\n",
        "                      epochs=epochs,\n",
        "                      validation_data=(test_images, test_labels))"
      ],
      "metadata": {
        "colab": {
          "base_uri": "https://localhost:8080/"
        },
        "id": "OZnwbqcAhB_i",
        "outputId": "f1a582b9-d4c1-4b94-9c01-4d608a79c150"
      },
      "execution_count": null,
      "outputs": [
        {
          "output_type": "stream",
          "name": "stdout",
          "text": [
            "Epoch 1/10\n",
            "469/469 [==============================] - 12s 5ms/step - loss: 0.2579 - accuracy: 0.9253 - val_loss: 0.0937 - val_accuracy: 0.9737\n",
            "Epoch 2/10\n",
            "469/469 [==============================] - 2s 5ms/step - loss: 0.0779 - accuracy: 0.9771 - val_loss: 0.0613 - val_accuracy: 0.9804\n",
            "Epoch 3/10\n",
            "469/469 [==============================] - 2s 4ms/step - loss: 0.0538 - accuracy: 0.9839 - val_loss: 0.0548 - val_accuracy: 0.9805\n",
            "Epoch 4/10\n",
            "469/469 [==============================] - 2s 4ms/step - loss: 0.0420 - accuracy: 0.9876 - val_loss: 0.0500 - val_accuracy: 0.9835\n",
            "Epoch 5/10\n",
            "469/469 [==============================] - 2s 4ms/step - loss: 0.0323 - accuracy: 0.9908 - val_loss: 0.0460 - val_accuracy: 0.9836\n",
            "Epoch 6/10\n",
            "469/469 [==============================] - 2s 4ms/step - loss: 0.0270 - accuracy: 0.9919 - val_loss: 0.0521 - val_accuracy: 0.9837\n",
            "Epoch 7/10\n",
            "469/469 [==============================] - 2s 5ms/step - loss: 0.0216 - accuracy: 0.9938 - val_loss: 0.0597 - val_accuracy: 0.9809\n",
            "Epoch 8/10\n",
            "469/469 [==============================] - 2s 5ms/step - loss: 0.0180 - accuracy: 0.9946 - val_loss: 0.0436 - val_accuracy: 0.9859\n",
            "Epoch 9/10\n",
            "469/469 [==============================] - 2s 4ms/step - loss: 0.0137 - accuracy: 0.9961 - val_loss: 0.0513 - val_accuracy: 0.9841\n",
            "Epoch 10/10\n",
            "469/469 [==============================] - 2s 4ms/step - loss: 0.0109 - accuracy: 0.9970 - val_loss: 0.0495 - val_accuracy: 0.9841\n"
          ]
        }
      ]
    },
    {
      "cell_type": "code",
      "source": [
        "# CNN Architecture 2: Deeper CNN\n",
        "model2 = models.Sequential()\n",
        "model2.add(layers.Conv2D(32, (3, 3), activation='relu', input_shape=(28, 28, 1)))\n",
        "model2.add(layers.MaxPooling2D((2, 2)))\n",
        "model2.add(layers.Conv2D(64, (3, 3), activation='relu'))\n",
        "model2.add(layers.MaxPooling2D((2, 2)))\n",
        "model2.add(layers.Flatten())\n",
        "model2.add(layers.Dense(64, activation='relu'))\n",
        "model2.add(layers.Dense(num_classes, activation='softmax'))"
      ],
      "metadata": {
        "id": "T0JBaNEshFDo"
      },
      "execution_count": null,
      "outputs": []
    },
    {
      "cell_type": "code",
      "source": [
        "model2.compile(optimizer='adam',\n",
        "               loss='sparse_categorical_crossentropy',\n",
        "               metrics=['accuracy'])"
      ],
      "metadata": {
        "id": "XWKbhxzRhU2t"
      },
      "execution_count": null,
      "outputs": []
    },
    {
      "cell_type": "code",
      "source": [
        "history2 = model2.fit(train_images, train_labels,\n",
        "                      batch_size=batch_size,\n",
        "                      epochs=epochs,\n",
        "                      validation_data=(test_images, test_labels))"
      ],
      "metadata": {
        "colab": {
          "base_uri": "https://localhost:8080/"
        },
        "id": "qJDG6WhghXs-",
        "outputId": "124b0d34-d046-4cf0-8fd7-95f100bb43e0"
      },
      "execution_count": null,
      "outputs": [
        {
          "output_type": "stream",
          "name": "stdout",
          "text": [
            "Epoch 1/10\n",
            "469/469 [==============================] - 4s 6ms/step - loss: 0.2236 - accuracy: 0.9353 - val_loss: 0.0668 - val_accuracy: 0.9782\n",
            "Epoch 2/10\n",
            "469/469 [==============================] - 2s 4ms/step - loss: 0.0603 - accuracy: 0.9811 - val_loss: 0.0520 - val_accuracy: 0.9823\n",
            "Epoch 3/10\n",
            "469/469 [==============================] - 2s 5ms/step - loss: 0.0426 - accuracy: 0.9865 - val_loss: 0.0387 - val_accuracy: 0.9862\n",
            "Epoch 4/10\n",
            "469/469 [==============================] - 2s 5ms/step - loss: 0.0321 - accuracy: 0.9899 - val_loss: 0.0342 - val_accuracy: 0.9883\n",
            "Epoch 5/10\n",
            "469/469 [==============================] - 2s 5ms/step - loss: 0.0264 - accuracy: 0.9918 - val_loss: 0.0297 - val_accuracy: 0.9896\n",
            "Epoch 6/10\n",
            "469/469 [==============================] - 2s 4ms/step - loss: 0.0208 - accuracy: 0.9933 - val_loss: 0.0281 - val_accuracy: 0.9905\n",
            "Epoch 7/10\n",
            "469/469 [==============================] - 2s 4ms/step - loss: 0.0168 - accuracy: 0.9946 - val_loss: 0.0319 - val_accuracy: 0.9903\n",
            "Epoch 8/10\n",
            "469/469 [==============================] - 2s 4ms/step - loss: 0.0138 - accuracy: 0.9957 - val_loss: 0.0303 - val_accuracy: 0.9906\n",
            "Epoch 9/10\n",
            "469/469 [==============================] - 3s 6ms/step - loss: 0.0115 - accuracy: 0.9964 - val_loss: 0.0325 - val_accuracy: 0.9905\n",
            "Epoch 10/10\n",
            "469/469 [==============================] - 2s 4ms/step - loss: 0.0113 - accuracy: 0.9963 - val_loss: 0.0379 - val_accuracy: 0.9901\n"
          ]
        }
      ]
    },
    {
      "cell_type": "code",
      "source": [
        "# CNN Architecture 3: Lightweight CNN\n",
        "model3 = models.Sequential()\n",
        "model3.add(layers.Conv2D(16, (3, 3), activation='relu', input_shape=(28, 28, 1)))\n",
        "model3.add(layers.MaxPooling2D((2, 2)))\n",
        "model3.add(layers.Conv2D(32, (3, 3), activation='relu'))\n",
        "model3.add(layers.Flatten())\n",
        "model3.add(layers.Dense(64, activation='relu'))\n",
        "model3.add(layers.Dense(num_classes, activation='softmax'))"
      ],
      "metadata": {
        "id": "UudT9LWFhcqp"
      },
      "execution_count": null,
      "outputs": []
    },
    {
      "cell_type": "code",
      "source": [
        "model3.compile(optimizer='adam',\n",
        "               loss='sparse_categorical_crossentropy',\n",
        "               metrics=['accuracy'])"
      ],
      "metadata": {
        "id": "ZwGT5eOMhtc8"
      },
      "execution_count": null,
      "outputs": []
    },
    {
      "cell_type": "code",
      "source": [
        "history3 = model3.fit(train_images, train_labels,\n",
        "                      batch_size=batch_size,\n",
        "                      epochs=epochs,\n",
        "                      validation_data=(test_images, test_labels))"
      ],
      "metadata": {
        "colab": {
          "base_uri": "https://localhost:8080/"
        },
        "id": "RzyDXEE7hwgM",
        "outputId": "56279985-b356-4a8e-9111-77cf1e234c70"
      },
      "execution_count": null,
      "outputs": [
        {
          "output_type": "stream",
          "name": "stdout",
          "text": [
            "Epoch 1/10\n",
            "469/469 [==============================] - 4s 5ms/step - loss: 0.2014 - accuracy: 0.9416 - val_loss: 0.0586 - val_accuracy: 0.9809\n",
            "Epoch 2/10\n",
            "469/469 [==============================] - 2s 4ms/step - loss: 0.0565 - accuracy: 0.9832 - val_loss: 0.0460 - val_accuracy: 0.9856\n",
            "Epoch 3/10\n",
            "469/469 [==============================] - 2s 5ms/step - loss: 0.0395 - accuracy: 0.9873 - val_loss: 0.0345 - val_accuracy: 0.9883\n",
            "Epoch 4/10\n",
            "469/469 [==============================] - 2s 5ms/step - loss: 0.0289 - accuracy: 0.9908 - val_loss: 0.0343 - val_accuracy: 0.9890\n",
            "Epoch 5/10\n",
            "469/469 [==============================] - 2s 4ms/step - loss: 0.0225 - accuracy: 0.9930 - val_loss: 0.0318 - val_accuracy: 0.9896\n",
            "Epoch 6/10\n",
            "469/469 [==============================] - 2s 4ms/step - loss: 0.0175 - accuracy: 0.9945 - val_loss: 0.0321 - val_accuracy: 0.9895\n",
            "Epoch 7/10\n",
            "469/469 [==============================] - 2s 4ms/step - loss: 0.0139 - accuracy: 0.9958 - val_loss: 0.0415 - val_accuracy: 0.9867\n",
            "Epoch 8/10\n",
            "469/469 [==============================] - 2s 4ms/step - loss: 0.0104 - accuracy: 0.9969 - val_loss: 0.0341 - val_accuracy: 0.9894\n",
            "Epoch 9/10\n",
            "469/469 [==============================] - 2s 5ms/step - loss: 0.0082 - accuracy: 0.9973 - val_loss: 0.0397 - val_accuracy: 0.9881\n",
            "Epoch 10/10\n",
            "469/469 [==============================] - 2s 5ms/step - loss: 0.0087 - accuracy: 0.9972 - val_loss: 0.0454 - val_accuracy: 0.9874\n"
          ]
        }
      ]
    },
    {
      "cell_type": "code",
      "source": [
        "# Comparison table\n",
        "table = [[\"Architecture\", \"Parameters\", \"Accuracy\"],\n",
        "         [\"Simple CNN\", model1.count_params(), max(history1.history['val_accuracy'])],\n",
        "         [\"Deeper CNN\", model2.count_params(), max(history2.history['val_accuracy'])],\n",
        "         [\"Lightweight CNN\", model3.count_params(), max(history3.history['val_accuracy'])]]"
      ],
      "metadata": {
        "id": "U4PnVLIyhzP8"
      },
      "execution_count": null,
      "outputs": []
    },
    {
      "cell_type": "code",
      "source": [
        "print(\"\\nComparison Table:\")\n",
        "for row in table:\n",
        "    print(\"{:<20} {:<12} {:<10}\".format(*row))"
      ],
      "metadata": {
        "colab": {
          "base_uri": "https://localhost:8080/"
        },
        "id": "cWATJk0viBSz",
        "outputId": "2023836b-e88e-4e1a-c100-edaab60a4896"
      },
      "execution_count": null,
      "outputs": [
        {
          "output_type": "stream",
          "name": "stdout",
          "text": [
            "\n",
            "Comparison Table:\n",
            "Architecture         Parameters   Accuracy  \n",
            "Simple CNN           347146       0.9858999848365784\n",
            "Deeper CNN           121930       0.9905999898910522\n",
            "Lightweight CNN      253322       0.9896000027656555\n"
          ]
        }
      ]
    },
    {
      "cell_type": "code",
      "source": [],
      "metadata": {
        "id": "ulkLJJaViEYq"
      },
      "execution_count": null,
      "outputs": []
    }
  ]
}