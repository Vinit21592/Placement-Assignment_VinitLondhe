{
  "nbformat": 4,
  "nbformat_minor": 0,
  "metadata": {
    "colab": {
      "provenance": []
    },
    "kernelspec": {
      "name": "python3",
      "display_name": "Python 3"
    },
    "language_info": {
      "name": "python"
    }
  },
  "cells": [
    {
      "cell_type": "markdown",
      "source": [
        "### Q-4. Take any text file and now your task is to Text Summarization without using hugging transformer library"
      ],
      "metadata": {
        "id": "sNdb4w89PG1m"
      }
    },
    {
      "cell_type": "code",
      "execution_count": 1,
      "metadata": {
        "colab": {
          "base_uri": "https://localhost:8080/"
        },
        "id": "f5ElsjpYJGSw",
        "outputId": "a683264c-4a44-43c3-800b-3b871e582f8f"
      },
      "outputs": [
        {
          "output_type": "execute_result",
          "data": {
            "text/plain": [
              "['Scott Edward Adkins (born 17 June 1976) is a British actor, film producer and martial artist. He is best known for his role as the Russian prison fighter Yuri Boyka in the Undisputed franchise. He has played Yuri Boyka in the (2006) film Undisputed II: Last Man Standing and its two sequels, Undisputed III: Redemption (2010) and Boyka: Undisputed (2017); Casey Bowman in the (2009) film Ninja and its (2013) sequel Ninja: Shadow of a Tear; French in the (2018) film The Debt Collector and its (2020) sequel Debt Collectors (starring alongside Louis Mandylor).\\n',\n",
              " '\\n',\n",
              " 'He worked in four films with his idol Jean-Claude Van Damme: The Shepherd: Border Patrol, Assassination Games, Universal Soldier: Day of Reckoning and The Expendables 2. He also had starring roles in The Legend of Hercules, Wolf Warrior and Ip Man 4: The Finale playing the main antagonist in all three films, and also appeared in The Bourne Ultimatum, Zero Dark Thirty, and the Marvel projects Mutant X, X-Men Origins: Wolverine, and Doctor Strange.[1] In 2022, he starred in Day Shift with Jamie Foxx and Dave Franco, and in John Wick: Chapter 4 alongside Keanu Reeves in 2023']"
            ]
          },
          "metadata": {},
          "execution_count": 1
        }
      ],
      "source": [
        "# read file  and stored it in a list named contents\n",
        "f=open('/content/Scott.txt','r',encoding='latin1')\n",
        "f1=f.readlines()\n",
        "contents=[]\n",
        "for line in f1:\n",
        "  contents.append(line)\n",
        "contents"
      ]
    },
    {
      "cell_type": "code",
      "source": [
        "#list contents were converted to a string and stored in text\n",
        "text = ' '.join([str(elem) for elem in contents])"
      ],
      "metadata": {
        "id": "vunhyT7CgY0J"
      },
      "execution_count": 2,
      "outputs": []
    },
    {
      "cell_type": "code",
      "source": [
        "# Unicode character x91 and x92 was replaced with “‘” and kept in variable text.\n",
        "\n",
        "text=text.replace(\"x91\",\"'\")\n",
        "text=text.replace(\"x92\",\"'\")\n",
        "text"
      ],
      "metadata": {
        "colab": {
          "base_uri": "https://localhost:8080/",
          "height": 123
        },
        "id": "iHoBMiihhN1p",
        "outputId": "718e25ce-3795-4809-c7a4-132269851e88"
      },
      "execution_count": 3,
      "outputs": [
        {
          "output_type": "execute_result",
          "data": {
            "text/plain": [
              "'Scott Edward Adkins (born 17 June 1976) is a British actor, film producer and martial artist. He is best known for his role as the Russian prison fighter Yuri Boyka in the Undisputed franchise. He has played Yuri Boyka in the (2006) film Undisputed II: Last Man Standing and its two sequels, Undisputed III: Redemption (2010) and Boyka: Undisputed (2017); Casey Bowman in the (2009) film Ninja and its (2013) sequel Ninja: Shadow of a Tear; French in the (2018) film The Debt Collector and its (2020) sequel Debt Collectors (starring alongside Louis Mandylor).\\n \\n He worked in four films with his idol Jean-Claude Van Damme: The Shepherd: Border Patrol, Assassination Games, Universal Soldier: Day of Reckoning and The Expendables 2. He also had starring roles in The Legend of Hercules, Wolf Warrior and Ip Man 4: The Finale playing the main antagonist in all three films, and also appeared in The Bourne Ultimatum, Zero Dark Thirty, and the Marvel projects Mutant X, X-Men Origins: Wolverine, and Doctor Strange.[1] In 2022, he starred in Day Shift with Jamie Foxx and Dave Franco, and in John Wick: Chapter 4 alongside Keanu Reeves in 2023'"
            ],
            "application/vnd.google.colaboratory.intrinsic+json": {
              "type": "string"
            }
          },
          "metadata": {},
          "execution_count": 3
        }
      ]
    },
    {
      "cell_type": "code",
      "source": [
        "len(text)"
      ],
      "metadata": {
        "colab": {
          "base_uri": "https://localhost:8080/"
        },
        "id": "0BUGzeVphT5p",
        "outputId": "142884fd-1f44-4804-ae4a-53cebfc5313d"
      },
      "execution_count": 4,
      "outputs": [
        {
          "output_type": "execute_result",
          "data": {
            "text/plain": [
              "1142"
            ]
          },
          "metadata": {},
          "execution_count": 4
        }
      ]
    },
    {
      "cell_type": "code",
      "source": [
        "# Number of words in the string\n",
        "\n",
        "f=len(text.split())\n",
        "print (\"The number of words in the given text is : \" +  str(f))"
      ],
      "metadata": {
        "colab": {
          "base_uri": "https://localhost:8080/"
        },
        "id": "lFXSPa5uhbKv",
        "outputId": "38f93adb-67e7-4fef-ff29-6fd610a5cc4d"
      },
      "execution_count": 5,
      "outputs": [
        {
          "output_type": "stream",
          "name": "stdout",
          "text": [
            "The number of words in the given text is : 192\n"
          ]
        }
      ]
    },
    {
      "cell_type": "code",
      "source": [
        "# Importing the important libraries\n",
        "# The spacy library is imported. Spacy is a free open source library for advanced Natural Language Processing.\n",
        "import spacy\n",
        "from spacy.lang.en.stop_words import STOP_WORDS\n",
        "from string import punctuation"
      ],
      "metadata": {
        "id": "YQBeN0aDhjaR"
      },
      "execution_count": 6,
      "outputs": []
    },
    {
      "cell_type": "code",
      "source": [
        "# To load the models and data for the English Language, we have to use\n",
        "nlp= spacy.load(\"en_core_web_sm\")"
      ],
      "metadata": {
        "id": "n8bUu6NBiKcY"
      },
      "execution_count": 7,
      "outputs": []
    },
    {
      "cell_type": "code",
      "source": [
        "# The raw text data often referred to as text corpus has a lot of noise. There is punctuation, suffices, and stop words that do not give us any information. \n",
        "# Text Processing involves preparing the text corpus to make it more usable for NLP tasks. A text can be converted into nlp object of spaCy as shown using nlp(text) function. \n",
        "# Here ‘nlp’ is an object of our small-sized model so we are going to use it for further coding. \n",
        "# Processing text with the nlp object returns a Doc object that holds all information about the sequence of tokens, their linguistic features and their relationships.\n",
        "doc=nlp(text)"
      ],
      "metadata": {
        "id": "l0zk8t1hiymy"
      },
      "execution_count": 8,
      "outputs": []
    },
    {
      "cell_type": "code",
      "source": [
        "# Iterate over every single token using list comprehension and these are the tokens to be worked upon\n",
        "tokens=[token.text for token in doc]\n",
        "print(tokens)"
      ],
      "metadata": {
        "colab": {
          "base_uri": "https://localhost:8080/"
        },
        "id": "wbQQXnUBjNnP",
        "outputId": "a458bee7-04a6-4638-c7f5-25f517e31075"
      },
      "execution_count": 9,
      "outputs": [
        {
          "output_type": "stream",
          "name": "stdout",
          "text": [
            "['Scott', 'Edward', 'Adkins', '(', 'born', '17', 'June', '1976', ')', 'is', 'a', 'British', 'actor', ',', 'film', 'producer', 'and', 'martial', 'artist', '.', 'He', 'is', 'best', 'known', 'for', 'his', 'role', 'as', 'the', 'Russian', 'prison', 'fighter', 'Yuri', 'Boyka', 'in', 'the', 'Undisputed', 'franchise', '.', 'He', 'has', 'played', 'Yuri', 'Boyka', 'in', 'the', '(', '2006', ')', 'film', 'Undisputed', 'II', ':', 'Last', 'Man', 'Standing', 'and', 'its', 'two', 'sequels', ',', 'Undisputed', 'III', ':', 'Redemption', '(', '2010', ')', 'and', 'Boyka', ':', 'Undisputed', '(', '2017', ')', ';', 'Casey', 'Bowman', 'in', 'the', '(', '2009', ')', 'film', 'Ninja', 'and', 'its', '(', '2013', ')', 'sequel', 'Ninja', ':', 'Shadow', 'of', 'a', 'Tear', ';', 'French', 'in', 'the', '(', '2018', ')', 'film', 'The', 'Debt', 'Collector', 'and', 'its', '(', '2020', ')', 'sequel', 'Debt', 'Collectors', '(', 'starring', 'alongside', 'Louis', 'Mandylor', ')', '.', '\\n \\n ', 'He', 'worked', 'in', 'four', 'films', 'with', 'his', 'idol', 'Jean', '-', 'Claude', 'Van', 'Damme', ':', 'The', 'Shepherd', ':', 'Border', 'Patrol', ',', 'Assassination', 'Games', ',', 'Universal', 'Soldier', ':', 'Day', 'of', 'Reckoning', 'and', 'The', 'Expendables', '2', '.', 'He', 'also', 'had', 'starring', 'roles', 'in', 'The', 'Legend', 'of', 'Hercules', ',', 'Wolf', 'Warrior', 'and', 'Ip', 'Man', '4', ':', 'The', 'Finale', 'playing', 'the', 'main', 'antagonist', 'in', 'all', 'three', 'films', ',', 'and', 'also', 'appeared', 'in', 'The', 'Bourne', 'Ultimatum', ',', 'Zero', 'Dark', 'Thirty', ',', 'and', 'the', 'Marvel', 'projects', 'Mutant', 'X', ',', 'X', '-', 'Men', 'Origins', ':', 'Wolverine', ',', 'and', 'Doctor', 'Strange.[1', ']', 'In', '2022', ',', 'he', 'starred', 'in', 'Day', 'Shift', 'with', 'Jamie', 'Foxx', 'and', 'Dave', 'Franco', ',', 'and', 'in', 'John', 'Wick', ':', 'Chapter', '4', 'alongside', 'Keanu', 'Reeves', 'in', '2023']\n"
          ]
        }
      ]
    },
    {
      "cell_type": "code",
      "source": [
        "# These are the all punctuations and one extra punctuation ‘n’ has been added\n",
        "punctuation=punctuation+'n'\n",
        "punctuation"
      ],
      "metadata": {
        "colab": {
          "base_uri": "https://localhost:8080/",
          "height": 36
        },
        "id": "PXvJI2pgjV0k",
        "outputId": "7bb3dd74-2638-4244-e39e-c552e399a030"
      },
      "execution_count": 10,
      "outputs": [
        {
          "output_type": "execute_result",
          "data": {
            "text/plain": [
              "'!\"#$%&\\'()*+,-./:;<=>?@[\\\\]^_`{|}~n'"
            ],
            "application/vnd.google.colaboratory.intrinsic+json": {
              "type": "string"
            }
          },
          "metadata": {},
          "execution_count": 10
        }
      ]
    },
    {
      "cell_type": "code",
      "source": [
        "## Text Cleaning\n",
        "# An empty dictionary word_freq has been created.\n",
        "word_freq={}"
      ],
      "metadata": {
        "id": "IfWAq49RjiTS"
      },
      "execution_count": 11,
      "outputs": []
    },
    {
      "cell_type": "code",
      "source": [
        "# Store the list of STOP_WORDS in the stop_words variable\n",
        "stop_words= list(STOP_WORDS)"
      ],
      "metadata": {
        "id": "nk5QC_4DJCJy"
      },
      "execution_count": 12,
      "outputs": []
    },
    {
      "cell_type": "code",
      "source": [
        "stop_words"
      ],
      "metadata": {
        "colab": {
          "base_uri": "https://localhost:8080/"
        },
        "id": "_cW-EXOFJrcd",
        "outputId": "cd3f89b4-f329-4129-d25a-8202955e6632"
      },
      "execution_count": 13,
      "outputs": [
        {
          "output_type": "execute_result",
          "data": {
            "text/plain": [
              "['twenty',\n",
              " 'among',\n",
              " 'no',\n",
              " 'she',\n",
              " 'where',\n",
              " 'alone',\n",
              " 'enough',\n",
              " 'everything',\n",
              " 'thus',\n",
              " 'fifty',\n",
              " 'latterly',\n",
              " 'often',\n",
              " 'our',\n",
              " 'only',\n",
              " 'since',\n",
              " 'but',\n",
              " 'should',\n",
              " 'an',\n",
              " 'most',\n",
              " 'via',\n",
              " 'he',\n",
              " 'has',\n",
              " 'due',\n",
              " '‘ve',\n",
              " 'eleven',\n",
              " 'again',\n",
              " 'whereby',\n",
              " 'none',\n",
              " 'we',\n",
              " 'whence',\n",
              " 'herein',\n",
              " \"'s\",\n",
              " 'than',\n",
              " 'could',\n",
              " 'herself',\n",
              " 'ten',\n",
              " 'someone',\n",
              " 'more',\n",
              " 'hence',\n",
              " 'being',\n",
              " 'using',\n",
              " 'bottom',\n",
              " 'below',\n",
              " 'together',\n",
              " 'front',\n",
              " 'toward',\n",
              " 'a',\n",
              " 'itself',\n",
              " 'twelve',\n",
              " 'even',\n",
              " 'three',\n",
              " 'along',\n",
              " 'back',\n",
              " 'third',\n",
              " 'empty',\n",
              " 'not',\n",
              " '’d',\n",
              " 'wherever',\n",
              " 'does',\n",
              " 'become',\n",
              " 'own',\n",
              " 'yours',\n",
              " 'during',\n",
              " 'through',\n",
              " 'hereafter',\n",
              " 'six',\n",
              " 'against',\n",
              " 'although',\n",
              " 'amongst',\n",
              " 'except',\n",
              " 'after',\n",
              " 'on',\n",
              " 'may',\n",
              " 'hereupon',\n",
              " 'between',\n",
              " 'anyhow',\n",
              " 'such',\n",
              " 'quite',\n",
              " 'from',\n",
              " 'might',\n",
              " '’ve',\n",
              " 'the',\n",
              " 'cannot',\n",
              " '‘d',\n",
              " 'seemed',\n",
              " 'anyone',\n",
              " 'had',\n",
              " 'would',\n",
              " 'these',\n",
              " '‘re',\n",
              " 'wherein',\n",
              " 'further',\n",
              " 'anything',\n",
              " 'rather',\n",
              " 'seem',\n",
              " 'five',\n",
              " 'much',\n",
              " '’ll',\n",
              " 'which',\n",
              " 'one',\n",
              " 'whole',\n",
              " 'call',\n",
              " 'be',\n",
              " 'nine',\n",
              " 'did',\n",
              " 'also',\n",
              " 'thereafter',\n",
              " 'why',\n",
              " 'seems',\n",
              " 'very',\n",
              " 'while',\n",
              " 'afterwards',\n",
              " 'name',\n",
              " 'that',\n",
              " 'what',\n",
              " 'without',\n",
              " 'last',\n",
              " 'say',\n",
              " 'never',\n",
              " 'my',\n",
              " 'whereafter',\n",
              " 'others',\n",
              " 'whenever',\n",
              " 'give',\n",
              " 'perhaps',\n",
              " 'once',\n",
              " \"'d\",\n",
              " 'me',\n",
              " 'there',\n",
              " 'for',\n",
              " 'as',\n",
              " 'yourself',\n",
              " 'everywhere',\n",
              " 'myself',\n",
              " 'well',\n",
              " 'whether',\n",
              " 'then',\n",
              " 'themselves',\n",
              " 'because',\n",
              " 'them',\n",
              " 'they',\n",
              " 'ca',\n",
              " 'into',\n",
              " 'regarding',\n",
              " 'keep',\n",
              " \"'m\",\n",
              " 'fifteen',\n",
              " 'other',\n",
              " 'per',\n",
              " 'how',\n",
              " 'whither',\n",
              " 'to',\n",
              " 'can',\n",
              " 'next',\n",
              " 'are',\n",
              " 'must',\n",
              " 'anyway',\n",
              " 'thru',\n",
              " 'doing',\n",
              " 'within',\n",
              " \"'re\",\n",
              " 'whereupon',\n",
              " 'beyond',\n",
              " 'any',\n",
              " 'thereupon',\n",
              " 'yet',\n",
              " 'ourselves',\n",
              " 'all',\n",
              " 'take',\n",
              " 'out',\n",
              " 'him',\n",
              " 'everyone',\n",
              " 'nor',\n",
              " \"n't\",\n",
              " 'side',\n",
              " 'sometime',\n",
              " '’s',\n",
              " 'former',\n",
              " 'each',\n",
              " 'whose',\n",
              " 'ours',\n",
              " 'moreover',\n",
              " 'first',\n",
              " 'at',\n",
              " 'nowhere',\n",
              " 'off',\n",
              " 'do',\n",
              " 'though',\n",
              " 'already',\n",
              " 'across',\n",
              " 'see',\n",
              " 'few',\n",
              " 'less',\n",
              " 'really',\n",
              " 'became',\n",
              " 'nobody',\n",
              " 'towards',\n",
              " 'about',\n",
              " 'thence',\n",
              " 'anywhere',\n",
              " 'your',\n",
              " 'under',\n",
              " 'elsewhere',\n",
              " 'with',\n",
              " 'whoever',\n",
              " 'both',\n",
              " 'hereby',\n",
              " 'himself',\n",
              " 'have',\n",
              " 'hundred',\n",
              " 'mine',\n",
              " 'am',\n",
              " 'whom',\n",
              " 'now',\n",
              " 'throughout',\n",
              " 'some',\n",
              " 'here',\n",
              " 'sometimes',\n",
              " 'becomes',\n",
              " 'two',\n",
              " '‘s',\n",
              " 'whatever',\n",
              " 'somehow',\n",
              " 'around',\n",
              " 'indeed',\n",
              " 'just',\n",
              " 'beside',\n",
              " 're',\n",
              " 'becoming',\n",
              " 'whereas',\n",
              " 'his',\n",
              " 'above',\n",
              " 'yourselves',\n",
              " 'ever',\n",
              " 'mostly',\n",
              " 'this',\n",
              " 'latter',\n",
              " 'of',\n",
              " 'n‘t',\n",
              " 'therefore',\n",
              " 'put',\n",
              " 'in',\n",
              " 'another',\n",
              " 'make',\n",
              " 'will',\n",
              " 'beforehand',\n",
              " 'her',\n",
              " 'when',\n",
              " 'down',\n",
              " 'formerly',\n",
              " 'us',\n",
              " 'it',\n",
              " 'over',\n",
              " 'something',\n",
              " 'up',\n",
              " 'nevertheless',\n",
              " 'same',\n",
              " 'used',\n",
              " 'those',\n",
              " 'so',\n",
              " 'namely',\n",
              " 'always',\n",
              " 'every',\n",
              " 'seeming',\n",
              " 'you',\n",
              " '‘m',\n",
              " 'move',\n",
              " 'however',\n",
              " 'show',\n",
              " 'serious',\n",
              " 'n’t',\n",
              " 'were',\n",
              " 'besides',\n",
              " 'four',\n",
              " 'before',\n",
              " 'somewhere',\n",
              " 'by',\n",
              " 'sixty',\n",
              " 'is',\n",
              " 'was',\n",
              " 'else',\n",
              " 'onto',\n",
              " 'unless',\n",
              " 'please',\n",
              " 'almost',\n",
              " 'go',\n",
              " 'its',\n",
              " 'upon',\n",
              " 'noone',\n",
              " '‘ll',\n",
              " 'nothing',\n",
              " 'been',\n",
              " 'get',\n",
              " 'still',\n",
              " 'done',\n",
              " 'various',\n",
              " '’m',\n",
              " 'their',\n",
              " 'if',\n",
              " 'and',\n",
              " 'who',\n",
              " 'full',\n",
              " 'least',\n",
              " 'behind',\n",
              " 'either',\n",
              " \"'ve\",\n",
              " '’re',\n",
              " 'meanwhile',\n",
              " 'otherwise',\n",
              " 'i',\n",
              " 'amount',\n",
              " 'many',\n",
              " 'eight',\n",
              " 'top',\n",
              " 'therein',\n",
              " \"'ll\",\n",
              " 'forty',\n",
              " 'until',\n",
              " 'part',\n",
              " 'thereby',\n",
              " 'neither',\n",
              " 'made',\n",
              " 'several',\n",
              " 'or',\n",
              " 'too',\n",
              " 'hers']"
            ]
          },
          "metadata": {},
          "execution_count": 13
        }
      ]
    },
    {
      "cell_type": "code",
      "source": [
        "# A loop has been run over the doc to get those words that are not in the list of STOP_WORDS and also not in the list of punctuations, \n",
        "# and then the words were added to the word_freq dictionary and the number of times they appear in doc has been added as a value in the dictionary.\n",
        "for word in doc:\n",
        "   if word.text.lower() not in stop_words:\n",
        "     if word.text.lower() not in punctuation:\n",
        "       if word.text not in word_freq.keys():\n",
        "         word_freq[word.text]= 1\n",
        "       else:\n",
        "         word_freq[word.text]+= 1 \n",
        "print(word_freq)"
      ],
      "metadata": {
        "colab": {
          "base_uri": "https://localhost:8080/"
        },
        "id": "nbaz1XJZJ1hR",
        "outputId": "f1ace9c9-c632-42f2-ae9d-eb05e024012c"
      },
      "execution_count": 14,
      "outputs": [
        {
          "output_type": "stream",
          "name": "stdout",
          "text": [
            "{'Scott': 1, 'Edward': 1, 'Adkins': 1, 'born': 1, '17': 1, 'June': 1, '1976': 1, 'British': 1, 'actor': 1, 'film': 4, 'producer': 1, 'martial': 1, 'artist': 1, 'best': 1, 'known': 1, 'role': 1, 'Russian': 1, 'prison': 1, 'fighter': 1, 'Yuri': 2, 'Boyka': 3, 'Undisputed': 4, 'franchise': 1, 'played': 1, '2006': 1, 'II': 1, 'Man': 2, 'Standing': 1, 'sequels': 1, 'III': 1, 'Redemption': 1, '2010': 1, '2017': 1, 'Casey': 1, 'Bowman': 1, '2009': 1, 'Ninja': 2, '2013': 1, 'sequel': 2, 'Shadow': 1, 'Tear': 1, 'French': 1, '2018': 1, 'Debt': 2, 'Collector': 1, '2020': 1, 'Collectors': 1, 'starring': 2, 'alongside': 2, 'Louis': 1, 'Mandylor': 1, '\\n \\n ': 1, 'worked': 1, 'films': 2, 'idol': 1, 'Jean': 1, 'Claude': 1, 'Van': 1, 'Damme': 1, 'Shepherd': 1, 'Border': 1, 'Patrol': 1, 'Assassination': 1, 'Games': 1, 'Universal': 1, 'Soldier': 1, 'Day': 2, 'Reckoning': 1, 'Expendables': 1, '2': 1, 'roles': 1, 'Legend': 1, 'Hercules': 1, 'Wolf': 1, 'Warrior': 1, 'Ip': 1, '4': 2, 'Finale': 1, 'playing': 1, 'main': 1, 'antagonist': 1, 'appeared': 1, 'Bourne': 1, 'Ultimatum': 1, 'Zero': 1, 'Dark': 1, 'Thirty': 1, 'Marvel': 1, 'projects': 1, 'Mutant': 1, 'X': 2, 'Men': 1, 'Origins': 1, 'Wolverine': 1, 'Doctor': 1, 'Strange.[1': 1, '2022': 1, 'starred': 1, 'Shift': 1, 'Jamie': 1, 'Foxx': 1, 'Dave': 1, 'Franco': 1, 'John': 1, 'Wick': 1, 'Chapter': 1, 'Keanu': 1, 'Reeves': 1, '2023': 1}\n"
          ]
        }
      ]
    },
    {
      "cell_type": "code",
      "source": [
        "# The maximum no of times a word appear has been figured out stored in variable max_freq\n",
        "x=(word_freq.values())\n",
        "a=list(x)\n",
        "a.sort()\n",
        "max_freq=a[-1]\n",
        "max_freq"
      ],
      "metadata": {
        "colab": {
          "base_uri": "https://localhost:8080/"
        },
        "id": "tdGGR9ZrLTDp",
        "outputId": "ebee2ce1-77e3-42f0-8f04-b04d31c1fadb"
      },
      "execution_count": 15,
      "outputs": [
        {
          "output_type": "execute_result",
          "data": {
            "text/plain": [
              "4"
            ]
          },
          "metadata": {},
          "execution_count": 15
        }
      ]
    },
    {
      "cell_type": "code",
      "source": [
        "# Sentence Tokenization\n",
        "for word in word_freq.keys():\n",
        "  word_freq[word]=word_freq[word]/max_freq \n",
        "print(word_freq)"
      ],
      "metadata": {
        "colab": {
          "base_uri": "https://localhost:8080/"
        },
        "id": "bWubiPNXLlNd",
        "outputId": "3de23aad-8c7d-4f52-a2bc-84197b0ec25f"
      },
      "execution_count": 16,
      "outputs": [
        {
          "output_type": "stream",
          "name": "stdout",
          "text": [
            "{'Scott': 0.25, 'Edward': 0.25, 'Adkins': 0.25, 'born': 0.25, '17': 0.25, 'June': 0.25, '1976': 0.25, 'British': 0.25, 'actor': 0.25, 'film': 1.0, 'producer': 0.25, 'martial': 0.25, 'artist': 0.25, 'best': 0.25, 'known': 0.25, 'role': 0.25, 'Russian': 0.25, 'prison': 0.25, 'fighter': 0.25, 'Yuri': 0.5, 'Boyka': 0.75, 'Undisputed': 1.0, 'franchise': 0.25, 'played': 0.25, '2006': 0.25, 'II': 0.25, 'Man': 0.5, 'Standing': 0.25, 'sequels': 0.25, 'III': 0.25, 'Redemption': 0.25, '2010': 0.25, '2017': 0.25, 'Casey': 0.25, 'Bowman': 0.25, '2009': 0.25, 'Ninja': 0.5, '2013': 0.25, 'sequel': 0.5, 'Shadow': 0.25, 'Tear': 0.25, 'French': 0.25, '2018': 0.25, 'Debt': 0.5, 'Collector': 0.25, '2020': 0.25, 'Collectors': 0.25, 'starring': 0.5, 'alongside': 0.5, 'Louis': 0.25, 'Mandylor': 0.25, '\\n \\n ': 0.25, 'worked': 0.25, 'films': 0.5, 'idol': 0.25, 'Jean': 0.25, 'Claude': 0.25, 'Van': 0.25, 'Damme': 0.25, 'Shepherd': 0.25, 'Border': 0.25, 'Patrol': 0.25, 'Assassination': 0.25, 'Games': 0.25, 'Universal': 0.25, 'Soldier': 0.25, 'Day': 0.5, 'Reckoning': 0.25, 'Expendables': 0.25, '2': 0.25, 'roles': 0.25, 'Legend': 0.25, 'Hercules': 0.25, 'Wolf': 0.25, 'Warrior': 0.25, 'Ip': 0.25, '4': 0.5, 'Finale': 0.25, 'playing': 0.25, 'main': 0.25, 'antagonist': 0.25, 'appeared': 0.25, 'Bourne': 0.25, 'Ultimatum': 0.25, 'Zero': 0.25, 'Dark': 0.25, 'Thirty': 0.25, 'Marvel': 0.25, 'projects': 0.25, 'Mutant': 0.25, 'X': 0.5, 'Men': 0.25, 'Origins': 0.25, 'Wolverine': 0.25, 'Doctor': 0.25, 'Strange.[1': 0.25, '2022': 0.25, 'starred': 0.25, 'Shift': 0.25, 'Jamie': 0.25, 'Foxx': 0.25, 'Dave': 0.25, 'Franco': 0.25, 'John': 0.25, 'Wick': 0.25, 'Chapter': 0.25, 'Keanu': 0.25, 'Reeves': 0.25, '2023': 0.25}\n"
          ]
        }
      ]
    },
    {
      "cell_type": "code",
      "source": [
        "# Sentences in doc objects have been segmented by using the list comprehension method and kept in variable sent_tokens\n",
        "sent_score={}\n",
        "sent_tokens=[sent for sent in doc.sents]\n",
        "print(sent_tokens)"
      ],
      "metadata": {
        "colab": {
          "base_uri": "https://localhost:8080/"
        },
        "id": "zdTq4kSDL1O_",
        "outputId": "a11634b8-6d69-43e8-f11f-e121e35f29ed"
      },
      "execution_count": 17,
      "outputs": [
        {
          "output_type": "stream",
          "name": "stdout",
          "text": [
            "[Scott Edward Adkins (born 17 June 1976) is a British actor, film producer and martial artist., He is best known for his role as the Russian prison fighter Yuri Boyka in the Undisputed franchise., He has played Yuri Boyka in the (2006) film Undisputed II: Last Man Standing and its two sequels, Undisputed III: Redemption (2010) and Boyka: Undisputed (2017); Casey Bowman in the (2009) film Ninja and its (2013) sequel Ninja: Shadow of a Tear; French in the (2018) film The Debt Collector and its (2020) sequel Debt Collectors (starring alongside Louis Mandylor).\n",
            " \n",
            " , He worked in four films with his idol Jean-Claude Van Damme: The Shepherd: Border Patrol, Assassination Games, Universal Soldier: Day of Reckoning and The Expendables 2., He also had starring roles in The Legend of Hercules, Wolf Warrior and Ip Man 4:, The Finale playing the main antagonist in all three films, and also appeared in The Bourne Ultimatum, Zero Dark Thirty, and the Marvel projects Mutant X, X-Men Origins: Wolverine, and Doctor Strange.[1], In 2022, he starred in Day Shift with Jamie Foxx and Dave Franco, and in John Wick: Chapter 4 alongside Keanu Reeves in 2023]\n"
          ]
        }
      ]
    },
    {
      "cell_type": "code",
      "source": [
        "# based on the score of a word in word_freq dictionary sent_score has been determined\n",
        "for sent in sent_tokens:\n",
        "   for word in sent:\n",
        "     if word.text.lower() in word_freq.keys():\n",
        "       if sent not in sent_score.keys():\n",
        "         sent_score[sent]=word_freq[word.text.lower()]\n",
        "       else:\n",
        "         sent_score[sent]+= word_freq[word.text.lower()] \n",
        "print(sent_score)"
      ],
      "metadata": {
        "colab": {
          "base_uri": "https://localhost:8080/"
        },
        "id": "Eh-rZ4P-MmnE",
        "outputId": "bbcf1a67-0baa-4279-e969-82b22cc698c6"
      },
      "execution_count": 18,
      "outputs": [
        {
          "output_type": "stream",
          "name": "stdout",
          "text": [
            "{Scott Edward Adkins (born 17 June 1976) is a British actor, film producer and martial artist.: 2.75, He is best known for his role as the Russian prison fighter Yuri Boyka in the Undisputed franchise.: 1.5, He has played Yuri Boyka in the (2006) film Undisputed II: Last Man Standing and its two sequels, Undisputed III: Redemption (2010) and Boyka: Undisputed (2017); Casey Bowman in the (2009) film Ninja and its (2013) sequel Ninja: Shadow of a Tear; French in the (2018) film The Debt Collector and its (2020) sequel Debt Collectors (starring alongside Louis Mandylor).\n",
            " \n",
            " : 7.5, He worked in four films with his idol Jean-Claude Van Damme: The Shepherd: Border Patrol, Assassination Games, Universal Soldier: Day of Reckoning and The Expendables 2.: 1.25, He also had starring roles in The Legend of Hercules, Wolf Warrior and Ip Man 4:: 1.25, The Finale playing the main antagonist in all three films, and also appeared in The Bourne Ultimatum, Zero Dark Thirty, and the Marvel projects Mutant X, X-Men Origins: Wolverine, and Doctor Strange.[1]: 1.75, In 2022, he starred in Day Shift with Jamie Foxx and Dave Franco, and in John Wick: Chapter 4 alongside Keanu Reeves in 2023: 1.75}\n"
          ]
        }
      ]
    },
    {
      "cell_type": "code",
      "source": [
        "# Select 30% sentences with a maximum score\n",
        "from heapq import nlargest\n",
        "len(sent_score) *0.3"
      ],
      "metadata": {
        "colab": {
          "base_uri": "https://localhost:8080/"
        },
        "id": "40tCnBqJNm0w",
        "outputId": "14fa5691-1626-4c19-8059-5d71ea4aa950"
      },
      "execution_count": 19,
      "outputs": [
        {
          "output_type": "execute_result",
          "data": {
            "text/plain": [
              "2.1"
            ]
          },
          "metadata": {},
          "execution_count": 19
        }
      ]
    },
    {
      "cell_type": "code",
      "source": [
        "# Getting Summary\n",
        "summary=nlargest(n=13,iterable=sent_score,key=sent_score.get) \n",
        "print(summary)"
      ],
      "metadata": {
        "colab": {
          "base_uri": "https://localhost:8080/"
        },
        "id": "VggcrhC1N0VC",
        "outputId": "c5c7f981-ea8b-4a53-c195-7ee7d1b248dd"
      },
      "execution_count": 20,
      "outputs": [
        {
          "output_type": "stream",
          "name": "stdout",
          "text": [
            "[He has played Yuri Boyka in the (2006) film Undisputed II: Last Man Standing and its two sequels, Undisputed III: Redemption (2010) and Boyka: Undisputed (2017); Casey Bowman in the (2009) film Ninja and its (2013) sequel Ninja: Shadow of a Tear; French in the (2018) film The Debt Collector and its (2020) sequel Debt Collectors (starring alongside Louis Mandylor).\n",
            " \n",
            " , Scott Edward Adkins (born 17 June 1976) is a British actor, film producer and martial artist., The Finale playing the main antagonist in all three films, and also appeared in The Bourne Ultimatum, Zero Dark Thirty, and the Marvel projects Mutant X, X-Men Origins: Wolverine, and Doctor Strange.[1], In 2022, he starred in Day Shift with Jamie Foxx and Dave Franco, and in John Wick: Chapter 4 alongside Keanu Reeves in 2023, He is best known for his role as the Russian prison fighter Yuri Boyka in the Undisputed franchise., He worked in four films with his idol Jean-Claude Van Damme: The Shepherd: Border Patrol, Assassination Games, Universal Soldier: Day of Reckoning and The Expendables 2., He also had starring roles in The Legend of Hercules, Wolf Warrior and Ip Man 4:]\n"
          ]
        }
      ]
    },
    {
      "cell_type": "code",
      "source": [
        "# List comprehension was applied to get the final summarized text\n",
        "final_summary=[word.text for word in summary]\n",
        "final_summary"
      ],
      "metadata": {
        "colab": {
          "base_uri": "https://localhost:8080/"
        },
        "id": "X9-L23K9N98G",
        "outputId": "c8501434-780b-4999-f5a6-6b06e9c44fbc"
      },
      "execution_count": 21,
      "outputs": [
        {
          "output_type": "execute_result",
          "data": {
            "text/plain": [
              "['He has played Yuri Boyka in the (2006) film Undisputed II: Last Man Standing and its two sequels, Undisputed III: Redemption (2010) and Boyka: Undisputed (2017); Casey Bowman in the (2009) film Ninja and its (2013) sequel Ninja: Shadow of a Tear; French in the (2018) film The Debt Collector and its (2020) sequel Debt Collectors (starring alongside Louis Mandylor).\\n \\n ',\n",
              " 'Scott Edward Adkins (born 17 June 1976) is a British actor, film producer and martial artist.',\n",
              " 'The Finale playing the main antagonist in all three films, and also appeared in The Bourne Ultimatum, Zero Dark Thirty, and the Marvel projects Mutant X, X-Men Origins: Wolverine, and Doctor Strange.[1]',\n",
              " 'In 2022, he starred in Day Shift with Jamie Foxx and Dave Franco, and in John Wick: Chapter 4 alongside Keanu Reeves in 2023',\n",
              " 'He is best known for his role as the Russian prison fighter Yuri Boyka in the Undisputed franchise.',\n",
              " 'He worked in four films with his idol Jean-Claude Van Damme: The Shepherd: Border Patrol, Assassination Games, Universal Soldier: Day of Reckoning and The Expendables 2.',\n",
              " 'He also had starring roles in The Legend of Hercules, Wolf Warrior and Ip Man 4:']"
            ]
          },
          "metadata": {},
          "execution_count": 21
        }
      ]
    },
    {
      "cell_type": "code",
      "source": [
        "# re module was imported to perform regex operation\n",
        "import re"
      ],
      "metadata": {
        "id": "lybJV4qpOIx4"
      },
      "execution_count": 22,
      "outputs": []
    },
    {
      "cell_type": "code",
      "source": [
        "# remove ‘n’ from all text\n",
        "f1=[]\n",
        "for sub in final_summary:\n",
        "  f1.append(re.sub('n','',sub))\n",
        "f1"
      ],
      "metadata": {
        "colab": {
          "base_uri": "https://localhost:8080/"
        },
        "id": "FoFIE97AORtU",
        "outputId": "e0511276-ca95-463e-a891-e528d50ff948"
      },
      "execution_count": 23,
      "outputs": [
        {
          "output_type": "execute_result",
          "data": {
            "text/plain": [
              "['He has played Yuri Boyka i the (2006) film Udisputed II: Last Ma Stadig ad its two sequels, Udisputed III: Redemptio (2010) ad Boyka: Udisputed (2017); Casey Bowma i the (2009) film Nija ad its (2013) sequel Nija: Shadow of a Tear; Frech i the (2018) film The Debt Collector ad its (2020) sequel Debt Collectors (starrig alogside Louis Madylor).\\n \\n ',\n",
              " 'Scott Edward Adkis (bor 17 Jue 1976) is a British actor, film producer ad martial artist.',\n",
              " 'The Fiale playig the mai atagoist i all three films, ad also appeared i The Boure Ultimatum, Zero Dark Thirty, ad the Marvel projects Mutat X, X-Me Origis: Wolverie, ad Doctor Strage.[1]',\n",
              " 'I 2022, he starred i Day Shift with Jamie Foxx ad Dave Fraco, ad i Joh Wick: Chapter 4 alogside Keau Reeves i 2023',\n",
              " 'He is best kow for his role as the Russia priso fighter Yuri Boyka i the Udisputed frachise.',\n",
              " 'He worked i four films with his idol Jea-Claude Va Damme: The Shepherd: Border Patrol, Assassiatio Games, Uiversal Soldier: Day of Reckoig ad The Expedables 2.',\n",
              " 'He also had starrig roles i The Leged of Hercules, Wolf Warrior ad Ip Ma 4:']"
            ]
          },
          "metadata": {},
          "execution_count": 23
        }
      ]
    },
    {
      "cell_type": "code",
      "source": [
        "# The list of final summarized text was converted to string using the join() function and kept in variable f2\n",
        "f2=\" \".join(f1)\n",
        "f2"
      ],
      "metadata": {
        "colab": {
          "base_uri": "https://localhost:8080/",
          "height": 123
        },
        "id": "7WSbEJzfOdDm",
        "outputId": "16e32edd-9103-4eea-9830-7fd0adbf6d53"
      },
      "execution_count": 24,
      "outputs": [
        {
          "output_type": "execute_result",
          "data": {
            "text/plain": [
              "'He has played Yuri Boyka i the (2006) film Udisputed II: Last Ma Stadig ad its two sequels, Udisputed III: Redemptio (2010) ad Boyka: Udisputed (2017); Casey Bowma i the (2009) film Nija ad its (2013) sequel Nija: Shadow of a Tear; Frech i the (2018) film The Debt Collector ad its (2020) sequel Debt Collectors (starrig alogside Louis Madylor).\\n \\n  Scott Edward Adkis (bor 17 Jue 1976) is a British actor, film producer ad martial artist. The Fiale playig the mai atagoist i all three films, ad also appeared i The Boure Ultimatum, Zero Dark Thirty, ad the Marvel projects Mutat X, X-Me Origis: Wolverie, ad Doctor Strage.[1] I 2022, he starred i Day Shift with Jamie Foxx ad Dave Fraco, ad i Joh Wick: Chapter 4 alogside Keau Reeves i 2023 He is best kow for his role as the Russia priso fighter Yuri Boyka i the Udisputed frachise. He worked i four films with his idol Jea-Claude Va Damme: The Shepherd: Border Patrol, Assassiatio Games, Uiversal Soldier: Day of Reckoig ad The Expedables 2. He also had starrig roles i The Leged of Hercules, Wolf Warrior ad Ip Ma 4:'"
            ],
            "application/vnd.google.colaboratory.intrinsic+json": {
              "type": "string"
            }
          },
          "metadata": {},
          "execution_count": 24
        }
      ]
    },
    {
      "cell_type": "code",
      "source": [
        "# The split() function was used to count the number of words in the final string\n",
        "f3=len(f2.split())\n",
        "print(\"The number of words in final summary is : \" +  str(f3))"
      ],
      "metadata": {
        "colab": {
          "base_uri": "https://localhost:8080/"
        },
        "id": "TxtJ6II1Omf0",
        "outputId": "ac1767a1-69ac-4591-ff02-93385db8f8cf"
      },
      "execution_count": 25,
      "outputs": [
        {
          "output_type": "stream",
          "name": "stdout",
          "text": [
            "The number of words in final summary is : 192\n"
          ]
        }
      ]
    },
    {
      "cell_type": "code",
      "source": [],
      "metadata": {
        "id": "yG69xQZcOy4J"
      },
      "execution_count": null,
      "outputs": []
    }
  ]
}