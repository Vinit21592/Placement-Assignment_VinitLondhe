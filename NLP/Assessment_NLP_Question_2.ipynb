{
  "nbformat": 4,
  "nbformat_minor": 0,
  "metadata": {
    "colab": {
      "provenance": []
    },
    "kernelspec": {
      "name": "python3",
      "display_name": "Python 3"
    },
    "language_info": {
      "name": "python"
    }
  },
  "cells": [
    {
      "cell_type": "markdown",
      "source": [
        "### Q-2. Take any pdf and your task is to extract the text from that pdf and store it in a csv file and then you need to find the most repeated word in that pdf."
      ],
      "metadata": {
        "id": "NJBMEoGWg24Q"
      }
    },
    {
      "cell_type": "code",
      "source": [
        "!pip install PyPDF2"
      ],
      "metadata": {
        "colab": {
          "base_uri": "https://localhost:8080/"
        },
        "id": "nLJnIX_4aDd3",
        "outputId": "b8e0da43-aa1f-4cd3-a54f-21c4f92c2373"
      },
      "execution_count": 2,
      "outputs": [
        {
          "output_type": "stream",
          "name": "stdout",
          "text": [
            "Looking in indexes: https://pypi.org/simple, https://us-python.pkg.dev/colab-wheels/public/simple/\n",
            "Collecting PyPDF2\n",
            "  Downloading pypdf2-3.0.1-py3-none-any.whl (232 kB)\n",
            "\u001b[2K     \u001b[90m━━━━━━━━━━━━━━━━━━━━━━━━━━━━━━━━━━━━━━━\u001b[0m \u001b[32m232.6/232.6 kB\u001b[0m \u001b[31m8.6 MB/s\u001b[0m eta \u001b[36m0:00:00\u001b[0m\n",
            "\u001b[?25hInstalling collected packages: PyPDF2\n",
            "Successfully installed PyPDF2-3.0.1\n"
          ]
        }
      ]
    },
    {
      "cell_type": "code",
      "source": [
        "import PyPDF2\n",
        "import csv\n",
        "from collections import Counter"
      ],
      "metadata": {
        "id": "w5-5-0RSZ-pR"
      },
      "execution_count": 3,
      "outputs": []
    },
    {
      "cell_type": "code",
      "source": [
        "# Open the PDF file\n",
        "with open('/content/pdf-sample.pdf', 'rb') as file:\n",
        "    # Initialize a PDF reader object\n",
        "    reader = PyPDF2.PdfReader(file)\n",
        "\n",
        "    # Extract text from each page and concatenate\n",
        "    text = ''\n",
        "    for page in range(len(reader.pages)):\n",
        "        text += reader.pages[page].extract_text()\n",
        "\n",
        "    # Remove newline characters and unnecessary whitespaces\n",
        "    text = text.replace('\\n', ' ').strip()\n",
        "\n",
        "    # Split the text into individual words\n",
        "    words = text.split()\n",
        "\n",
        "    # Store the extracted text in a CSV file\n",
        "    with open('extracted_text.csv', 'w', newline='', encoding='utf-8') as csvfile:\n",
        "        writer = csv.writer(csvfile)\n",
        "        writer.writerow(['Text'])\n",
        "        writer.writerows([[text]])\n",
        "\n",
        "    # Find the most repeated word\n",
        "    word_counts = Counter(words)\n",
        "    most_repeated_word = word_counts.most_common(1)[0][0]\n",
        "\n",
        "    print('Most repeated word:', most_repeated_word)"
      ],
      "metadata": {
        "colab": {
          "base_uri": "https://localhost:8080/"
        },
        "id": "I9i4P1cKaNza",
        "outputId": "06c7db55-8a65-454a-df7e-cf36158643a7"
      },
      "execution_count": 17,
      "outputs": [
        {
          "output_type": "stream",
          "name": "stdout",
          "text": [
            "Most repeated word: and\n"
          ]
        }
      ]
    }
  ]
}